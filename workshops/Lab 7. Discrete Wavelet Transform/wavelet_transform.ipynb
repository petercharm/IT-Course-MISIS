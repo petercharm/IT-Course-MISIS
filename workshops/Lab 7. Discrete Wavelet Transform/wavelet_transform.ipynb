{
 "cells": [
  {
   "cell_type": "code",
   "execution_count": 4,
   "metadata": {},
   "outputs": [],
   "source": [
    "import numpy as np\n",
    "import matplotlib.pyplot as plt\n",
    "import pandas as pd\n",
    "%matplotlib inline"
   ]
  },
  {
   "cell_type": "code",
   "execution_count": 5,
   "metadata": {},
   "outputs": [],
   "source": [
    "data = pd.read_csv('../specs.csv',sep='\\t')"
   ]
  },
  {
   "cell_type": "code",
   "execution_count": 6,
   "metadata": {},
   "outputs": [],
   "source": [
    "data_real = pd.read_csv('../1333.csv',sep='\\t')"
   ]
  },
  {
   "cell_type": "code",
   "execution_count": 7,
   "metadata": {},
   "outputs": [
    {
     "data": {
      "text/html": [
       "<div>\n",
       "<style scoped>\n",
       "    .dataframe tbody tr th:only-of-type {\n",
       "        vertical-align: middle;\n",
       "    }\n",
       "\n",
       "    .dataframe tbody tr th {\n",
       "        vertical-align: top;\n",
       "    }\n",
       "\n",
       "    .dataframe thead th {\n",
       "        text-align: right;\n",
       "    }\n",
       "</style>\n",
       "<table border=\"1\" class=\"dataframe\">\n",
       "  <thead>\n",
       "    <tr style=\"text-align: right;\">\n",
       "      <th></th>\n",
       "      <th>0</th>\n",
       "      <th>0.0</th>\n",
       "      <th>0.0.1</th>\n",
       "      <th>0.0.2</th>\n",
       "      <th>0.0.3</th>\n",
       "      <th>1.0</th>\n",
       "      <th>6.0</th>\n",
       "      <th>31.0</th>\n",
       "      <th>54.0</th>\n",
       "      <th>40.0</th>\n",
       "      <th>...</th>\n",
       "      <th>0.0.3370</th>\n",
       "      <th>0.0.3371</th>\n",
       "      <th>0.0.3372</th>\n",
       "      <th>0.0.3373</th>\n",
       "      <th>0.0.3374</th>\n",
       "      <th>0.0.3375</th>\n",
       "      <th>0.0.3376</th>\n",
       "      <th>0.0.3377</th>\n",
       "      <th>0.0.3378</th>\n",
       "      <th>Unnamed: 7937</th>\n",
       "    </tr>\n",
       "  </thead>\n",
       "  <tbody>\n",
       "    <tr>\n",
       "      <td>0</td>\n",
       "      <td>1</td>\n",
       "      <td>0.0</td>\n",
       "      <td>0.0</td>\n",
       "      <td>0.0</td>\n",
       "      <td>0.0</td>\n",
       "      <td>0.0</td>\n",
       "      <td>5.0</td>\n",
       "      <td>27.0</td>\n",
       "      <td>55.0</td>\n",
       "      <td>54.0</td>\n",
       "      <td>...</td>\n",
       "      <td>0.0</td>\n",
       "      <td>0.0</td>\n",
       "      <td>0.0</td>\n",
       "      <td>0.0</td>\n",
       "      <td>0.0</td>\n",
       "      <td>0.0</td>\n",
       "      <td>0.0</td>\n",
       "      <td>0.0</td>\n",
       "      <td>0.0</td>\n",
       "      <td>NaN</td>\n",
       "    </tr>\n",
       "    <tr>\n",
       "      <td>1</td>\n",
       "      <td>2</td>\n",
       "      <td>0.0</td>\n",
       "      <td>0.0</td>\n",
       "      <td>0.0</td>\n",
       "      <td>0.0</td>\n",
       "      <td>0.0</td>\n",
       "      <td>5.0</td>\n",
       "      <td>40.0</td>\n",
       "      <td>73.0</td>\n",
       "      <td>57.0</td>\n",
       "      <td>...</td>\n",
       "      <td>0.0</td>\n",
       "      <td>0.0</td>\n",
       "      <td>0.0</td>\n",
       "      <td>0.0</td>\n",
       "      <td>0.0</td>\n",
       "      <td>0.0</td>\n",
       "      <td>0.0</td>\n",
       "      <td>0.0</td>\n",
       "      <td>0.0</td>\n",
       "      <td>NaN</td>\n",
       "    </tr>\n",
       "    <tr>\n",
       "      <td>2</td>\n",
       "      <td>3</td>\n",
       "      <td>0.0</td>\n",
       "      <td>0.0</td>\n",
       "      <td>0.0</td>\n",
       "      <td>1.0</td>\n",
       "      <td>7.0</td>\n",
       "      <td>25.0</td>\n",
       "      <td>35.0</td>\n",
       "      <td>33.0</td>\n",
       "      <td>37.0</td>\n",
       "      <td>...</td>\n",
       "      <td>0.0</td>\n",
       "      <td>0.0</td>\n",
       "      <td>0.0</td>\n",
       "      <td>0.0</td>\n",
       "      <td>0.0</td>\n",
       "      <td>0.0</td>\n",
       "      <td>0.0</td>\n",
       "      <td>0.0</td>\n",
       "      <td>0.0</td>\n",
       "      <td>NaN</td>\n",
       "    </tr>\n",
       "    <tr>\n",
       "      <td>3</td>\n",
       "      <td>4</td>\n",
       "      <td>0.0</td>\n",
       "      <td>0.0</td>\n",
       "      <td>0.0</td>\n",
       "      <td>1.0</td>\n",
       "      <td>4.0</td>\n",
       "      <td>19.0</td>\n",
       "      <td>47.0</td>\n",
       "      <td>43.0</td>\n",
       "      <td>29.0</td>\n",
       "      <td>...</td>\n",
       "      <td>0.0</td>\n",
       "      <td>0.0</td>\n",
       "      <td>0.0</td>\n",
       "      <td>0.0</td>\n",
       "      <td>0.0</td>\n",
       "      <td>0.0</td>\n",
       "      <td>0.0</td>\n",
       "      <td>0.0</td>\n",
       "      <td>0.0</td>\n",
       "      <td>NaN</td>\n",
       "    </tr>\n",
       "    <tr>\n",
       "      <td>4</td>\n",
       "      <td>5</td>\n",
       "      <td>0.0</td>\n",
       "      <td>0.0</td>\n",
       "      <td>0.0</td>\n",
       "      <td>0.0</td>\n",
       "      <td>5.0</td>\n",
       "      <td>26.0</td>\n",
       "      <td>44.0</td>\n",
       "      <td>23.0</td>\n",
       "      <td>32.0</td>\n",
       "      <td>...</td>\n",
       "      <td>0.0</td>\n",
       "      <td>0.0</td>\n",
       "      <td>0.0</td>\n",
       "      <td>0.0</td>\n",
       "      <td>0.0</td>\n",
       "      <td>0.0</td>\n",
       "      <td>0.0</td>\n",
       "      <td>0.0</td>\n",
       "      <td>0.0</td>\n",
       "      <td>NaN</td>\n",
       "    </tr>\n",
       "    <tr>\n",
       "      <td>...</td>\n",
       "      <td>...</td>\n",
       "      <td>...</td>\n",
       "      <td>...</td>\n",
       "      <td>...</td>\n",
       "      <td>...</td>\n",
       "      <td>...</td>\n",
       "      <td>...</td>\n",
       "      <td>...</td>\n",
       "      <td>...</td>\n",
       "      <td>...</td>\n",
       "      <td>...</td>\n",
       "      <td>...</td>\n",
       "      <td>...</td>\n",
       "      <td>...</td>\n",
       "      <td>...</td>\n",
       "      <td>...</td>\n",
       "      <td>...</td>\n",
       "      <td>...</td>\n",
       "      <td>...</td>\n",
       "      <td>...</td>\n",
       "      <td>...</td>\n",
       "    </tr>\n",
       "    <tr>\n",
       "      <td>801</td>\n",
       "      <td>802</td>\n",
       "      <td>0.0</td>\n",
       "      <td>0.0</td>\n",
       "      <td>0.0</td>\n",
       "      <td>0.0</td>\n",
       "      <td>0.0</td>\n",
       "      <td>0.0</td>\n",
       "      <td>1.0</td>\n",
       "      <td>24.0</td>\n",
       "      <td>140.0</td>\n",
       "      <td>...</td>\n",
       "      <td>0.0</td>\n",
       "      <td>0.0</td>\n",
       "      <td>0.0</td>\n",
       "      <td>0.0</td>\n",
       "      <td>0.0</td>\n",
       "      <td>0.0</td>\n",
       "      <td>0.0</td>\n",
       "      <td>0.0</td>\n",
       "      <td>0.0</td>\n",
       "      <td>NaN</td>\n",
       "    </tr>\n",
       "    <tr>\n",
       "      <td>802</td>\n",
       "      <td>803</td>\n",
       "      <td>0.0</td>\n",
       "      <td>0.0</td>\n",
       "      <td>0.0</td>\n",
       "      <td>0.0</td>\n",
       "      <td>0.0</td>\n",
       "      <td>0.0</td>\n",
       "      <td>1.0</td>\n",
       "      <td>25.0</td>\n",
       "      <td>142.0</td>\n",
       "      <td>...</td>\n",
       "      <td>0.0</td>\n",
       "      <td>0.0</td>\n",
       "      <td>0.0</td>\n",
       "      <td>0.0</td>\n",
       "      <td>0.0</td>\n",
       "      <td>0.0</td>\n",
       "      <td>0.0</td>\n",
       "      <td>0.0</td>\n",
       "      <td>0.0</td>\n",
       "      <td>NaN</td>\n",
       "    </tr>\n",
       "    <tr>\n",
       "      <td>803</td>\n",
       "      <td>804</td>\n",
       "      <td>0.0</td>\n",
       "      <td>0.0</td>\n",
       "      <td>0.0</td>\n",
       "      <td>0.0</td>\n",
       "      <td>0.0</td>\n",
       "      <td>0.0</td>\n",
       "      <td>0.0</td>\n",
       "      <td>20.0</td>\n",
       "      <td>150.0</td>\n",
       "      <td>...</td>\n",
       "      <td>0.0</td>\n",
       "      <td>0.0</td>\n",
       "      <td>0.0</td>\n",
       "      <td>0.0</td>\n",
       "      <td>0.0</td>\n",
       "      <td>0.0</td>\n",
       "      <td>0.0</td>\n",
       "      <td>0.0</td>\n",
       "      <td>0.0</td>\n",
       "      <td>NaN</td>\n",
       "    </tr>\n",
       "    <tr>\n",
       "      <td>804</td>\n",
       "      <td>805</td>\n",
       "      <td>0.0</td>\n",
       "      <td>0.0</td>\n",
       "      <td>0.0</td>\n",
       "      <td>0.0</td>\n",
       "      <td>0.0</td>\n",
       "      <td>0.0</td>\n",
       "      <td>0.0</td>\n",
       "      <td>20.0</td>\n",
       "      <td>155.0</td>\n",
       "      <td>...</td>\n",
       "      <td>0.0</td>\n",
       "      <td>0.0</td>\n",
       "      <td>0.0</td>\n",
       "      <td>0.0</td>\n",
       "      <td>0.0</td>\n",
       "      <td>0.0</td>\n",
       "      <td>0.0</td>\n",
       "      <td>0.0</td>\n",
       "      <td>0.0</td>\n",
       "      <td>NaN</td>\n",
       "    </tr>\n",
       "    <tr>\n",
       "      <td>805</td>\n",
       "      <td>806</td>\n",
       "      <td>0.0</td>\n",
       "      <td>0.0</td>\n",
       "      <td>0.0</td>\n",
       "      <td>0.0</td>\n",
       "      <td>0.0</td>\n",
       "      <td>0.0</td>\n",
       "      <td>0.0</td>\n",
       "      <td>17.0</td>\n",
       "      <td>137.0</td>\n",
       "      <td>...</td>\n",
       "      <td>0.0</td>\n",
       "      <td>0.0</td>\n",
       "      <td>0.0</td>\n",
       "      <td>0.0</td>\n",
       "      <td>0.0</td>\n",
       "      <td>0.0</td>\n",
       "      <td>0.0</td>\n",
       "      <td>0.0</td>\n",
       "      <td>0.0</td>\n",
       "      <td>NaN</td>\n",
       "    </tr>\n",
       "  </tbody>\n",
       "</table>\n",
       "<p>806 rows × 7938 columns</p>\n",
       "</div>"
      ],
      "text/plain": [
       "       0  0.0  0.0.1  0.0.2  0.0.3  1.0   6.0  31.0  54.0   40.0  ...  \\\n",
       "0      1  0.0    0.0    0.0    0.0  0.0   5.0  27.0  55.0   54.0  ...   \n",
       "1      2  0.0    0.0    0.0    0.0  0.0   5.0  40.0  73.0   57.0  ...   \n",
       "2      3  0.0    0.0    0.0    1.0  7.0  25.0  35.0  33.0   37.0  ...   \n",
       "3      4  0.0    0.0    0.0    1.0  4.0  19.0  47.0  43.0   29.0  ...   \n",
       "4      5  0.0    0.0    0.0    0.0  5.0  26.0  44.0  23.0   32.0  ...   \n",
       "..   ...  ...    ...    ...    ...  ...   ...   ...   ...    ...  ...   \n",
       "801  802  0.0    0.0    0.0    0.0  0.0   0.0   1.0  24.0  140.0  ...   \n",
       "802  803  0.0    0.0    0.0    0.0  0.0   0.0   1.0  25.0  142.0  ...   \n",
       "803  804  0.0    0.0    0.0    0.0  0.0   0.0   0.0  20.0  150.0  ...   \n",
       "804  805  0.0    0.0    0.0    0.0  0.0   0.0   0.0  20.0  155.0  ...   \n",
       "805  806  0.0    0.0    0.0    0.0  0.0   0.0   0.0  17.0  137.0  ...   \n",
       "\n",
       "     0.0.3370  0.0.3371  0.0.3372  0.0.3373  0.0.3374  0.0.3375  0.0.3376  \\\n",
       "0         0.0       0.0       0.0       0.0       0.0       0.0       0.0   \n",
       "1         0.0       0.0       0.0       0.0       0.0       0.0       0.0   \n",
       "2         0.0       0.0       0.0       0.0       0.0       0.0       0.0   \n",
       "3         0.0       0.0       0.0       0.0       0.0       0.0       0.0   \n",
       "4         0.0       0.0       0.0       0.0       0.0       0.0       0.0   \n",
       "..        ...       ...       ...       ...       ...       ...       ...   \n",
       "801       0.0       0.0       0.0       0.0       0.0       0.0       0.0   \n",
       "802       0.0       0.0       0.0       0.0       0.0       0.0       0.0   \n",
       "803       0.0       0.0       0.0       0.0       0.0       0.0       0.0   \n",
       "804       0.0       0.0       0.0       0.0       0.0       0.0       0.0   \n",
       "805       0.0       0.0       0.0       0.0       0.0       0.0       0.0   \n",
       "\n",
       "     0.0.3377  0.0.3378  Unnamed: 7937  \n",
       "0         0.0       0.0            NaN  \n",
       "1         0.0       0.0            NaN  \n",
       "2         0.0       0.0            NaN  \n",
       "3         0.0       0.0            NaN  \n",
       "4         0.0       0.0            NaN  \n",
       "..        ...       ...            ...  \n",
       "801       0.0       0.0            NaN  \n",
       "802       0.0       0.0            NaN  \n",
       "803       0.0       0.0            NaN  \n",
       "804       0.0       0.0            NaN  \n",
       "805       0.0       0.0            NaN  \n",
       "\n",
       "[806 rows x 7938 columns]"
      ]
     },
     "execution_count": 7,
     "metadata": {},
     "output_type": "execute_result"
    }
   ],
   "source": [
    "data_real"
   ]
  },
  {
   "cell_type": "code",
   "execution_count": 8,
   "metadata": {},
   "outputs": [
    {
     "data": {
      "text/plain": [
       "992.0"
      ]
     },
     "execution_count": 8,
     "metadata": {},
     "output_type": "execute_result"
    }
   ],
   "source": [
    "7936/8"
   ]
  },
  {
   "cell_type": "code",
   "execution_count": 9,
   "metadata": {},
   "outputs": [],
   "source": [
    "spec = np.array(data.iloc[0,1:993].values,dtype=np.float32)\n",
    "spec2 = np.array(data.iloc[0,993:993*2].values,dtype=np.float32)\n",
    "spec3 = np.array(data.iloc[0,993*2:993*3].values,dtype=np.float32)\n",
    "spec4 = np.array(data.iloc[0,993*3:993*4].values,dtype=np.float32)"
   ]
  },
  {
   "cell_type": "code",
   "execution_count": null,
   "metadata": {},
   "outputs": [],
   "source": [
    "plt.plot(np.log(spec))\n",
    "plt.plot(np.log(spec2))\n",
    "plt.plot(np.log(spec3))\n",
    "plt.plot(np.log(spec4))"
   ]
  },
  {
   "cell_type": "code",
   "execution_count": 11,
   "metadata": {},
   "outputs": [],
   "source": [
    "spec_r = np.array(data_real.iloc[0,1:993].values,dtype=np.float32)\n",
    "spec2_r = np.array(data_real.iloc[0,993:993*2].values,dtype=np.float32)\n",
    "spec3_r = np.array(data_real.iloc[0,993*2:993*3].values,dtype=np.float32)\n",
    "spec4_r = np.array(data_real.iloc[0,993*3:993*4].values,dtype=np.float32)"
   ]
  },
  {
   "cell_type": "code",
   "execution_count": null,
   "metadata": {},
   "outputs": [],
   "source": [
    "plt.plot(np.log(spec_r))\n",
    "plt.plot(np.log(spec2_r))\n",
    "plt.plot(np.log(spec3_r))\n",
    "plt.plot(np.log(spec4_r))"
   ]
  },
  {
   "cell_type": "code",
   "execution_count": 13,
   "metadata": {},
   "outputs": [
    {
     "data": {
      "text/plain": [
       "[<matplotlib.lines.Line2D at 0x7faea0942b50>]"
      ]
     },
     "execution_count": 13,
     "metadata": {},
     "output_type": "execute_result"
    },
    {
     "data": {
      "image/png": "[encoded data removed]",
      "text/plain": [
       "<Figure size 432x288 with 1 Axes>"
      ]
     },
     "metadata": {
      "needs_background": "light"
     },
     "output_type": "display_data"
    }
   ],
   "source": [
    "plt.plot(np.log(spec2[60:760]/sum(spec2[60:760])))\n",
    "plt.plot(np.log(spec2_r[60:760]/sum(spec2_r[60:760])))"
   ]
  },
  {
   "cell_type": "code",
   "execution_count": 14,
   "metadata": {},
   "outputs": [
    {
     "data": {
      "text/plain": [
       "[<matplotlib.lines.Line2D at 0x7faea4715650>]"
      ]
     },
     "execution_count": 14,
     "metadata": {},
     "output_type": "execute_result"
    },
    {
     "data": {
      "image/png": "[encoded data removed]",
      "text/plain": [
       "<Figure size 432x288 with 1 Axes>"
      ]
     },
     "metadata": {
      "needs_background": "light"
     },
     "output_type": "display_data"
    }
   ],
   "source": [
    "plt.plot(np.log(spec3[60:760]/sum(spec3[60:760])))\n",
    "plt.plot(np.log(spec3_r[60:760]/sum(spec3_r[60:760])))"
   ]
  },
  {
   "cell_type": "code",
   "execution_count": 15,
   "metadata": {},
   "outputs": [],
   "source": [
    "sp_1 = spec3[60:764]/sum(spec3[60:764])\n",
    "sp_2 = spec3_r[60:764]/sum(spec3_r[60:764])"
   ]
  },
  {
   "cell_type": "code",
   "execution_count": null,
   "metadata": {},
   "outputs": [],
   "source": []
  },
  {
   "cell_type": "code",
   "execution_count": null,
   "metadata": {},
   "outputs": [],
   "source": []
  },
  {
   "cell_type": "code",
   "execution_count": 16,
   "metadata": {},
   "outputs": [],
   "source": [
    "t = np.linspace(0,1,100)\n",
    "\n",
    "sig = 5*np.sin(2*3.14*2*t) + 2*np.random.rand(100)"
   ]
  },
  {
   "cell_type": "code",
   "execution_count": 17,
   "metadata": {},
   "outputs": [
    {
     "data": {
      "text/plain": [
       "[<matplotlib.lines.Line2D at 0x7faea45e4590>]"
      ]
     },
     "execution_count": 17,
     "metadata": {},
     "output_type": "execute_result"
    },
    {
     "data": {
      "image/png": "[encoded data removed]",
      "text/plain": [
       "<Figure size 432x288 with 1 Axes>"
      ]
     },
     "metadata": {
      "needs_background": "light"
     },
     "output_type": "display_data"
    }
   ],
   "source": [
    "plt.plot(sig)"
   ]
  },
  {
   "cell_type": "code",
   "execution_count": 18,
   "metadata": {},
   "outputs": [],
   "source": [
    "def wavelet(X):\n",
    "    \n",
    "    #h = [0.7071067811865476,0.7071067811865476]\n",
    "    #g = [-0.7071067811865476,0.7071067811865476]\n",
    "    \n",
    "    g = [-0.026670057900950818,0.18817680007762133,-0.5272011889309198,0.6884590394525921,-0.2811723436604265,\n",
    "                -0.24984642432648865,0.19594627437659665,0.12736934033574265,-0.09305736460380659,-0.07139414716586077,\n",
    "                0.02945753682194567,0.03321267405893324,-0.0036065535669883944,-0.010733175482979604,-0.0013953517469940798,\n",
    "                0.00199240529499085,0.0006858566950046825,-0.0001164668549943862,-9.358867000108985e-05,-1.326420300235487e-05]\n",
    "    h = [-1.326420300235487e-05,9.358867000108985e-05,-0.0001164668549943862,-0.0006858566950046825,0.00199240529499085,\n",
    "                0.0013953517469940798,-0.010733175482979604,0.0036065535669883944,0.03321267405893324,-0.02945753682194567,\n",
    "                -0.07139414716586077,0.09305736460380659,0.12736934033574265,-0.19594627437659665,-0.24984642432648865,\n",
    "                0.2811723436604265,0.6884590394525921,0.5272011889309198,0.18817680007762133,0.026670057900950818]\n",
    "\n",
    "    W = np.zeros([len(X),len(X)])\n",
    "    \n",
    "    low_pass = np.zeros_like(X)\n",
    "    high_pass = np.zeros_like(X)\n",
    "    low_pass[0:len(h)] = h\n",
    "    high_pass[0:len(g)] = g\n",
    "    \n",
    "    low_pass = list(low_pass)\n",
    "    high_pass = list(high_pass)\n",
    "    \n",
    "    for i in range(0,len(X),2):\n",
    "        W[i,:] = low_pass\n",
    "        W[i+1,:] = high_pass\n",
    "        \n",
    "        low_pass[0:2], low_pass[2:] = low_pass[-2:], low_pass[:-2]\n",
    "        high_pass[0:2], high_pass[2:] = high_pass[-2:], high_pass[:-2]\n",
    "    \n",
    "    a = np.matmul(W,np.transpose(X))\n",
    "    \n",
    "    return a[::2], a[1::2]"
   ]
  },
  {
   "cell_type": "code",
   "execution_count": null,
   "metadata": {},
   "outputs": [],
   "source": []
  },
  {
   "cell_type": "code",
   "execution_count": 19,
   "metadata": {},
   "outputs": [],
   "source": [
    "def inverse_wavelet(low,high):\n",
    "    a = np.zeros(len(low)*2)\n",
    "    a[::2] = low\n",
    "    a[1::2] = high\n",
    "    \n",
    "    g = [0.026670057900950818,-1.326420300235487e-05,0.5272011889309198,-0.0001164668549943862,0.2811723436604265,\n",
    "         0.00199240529499085,-0.19594627437659665,-0.010733175482979604,0.09305736460380659,0.03321267405893324,\n",
    "         -0.02945753682194567,-0.07139414716586077,0.0036065535669883944,0.12736934033574265,0.0013953517469940798,\n",
    "         -0.24984642432648865,-0.0006858566950046825,0.6884590394525921,9.358867000108985e-05,0.18817680007762133]\n",
    "    h = [0.18817680007762133,-9.358867000108985e-05,0.6884590394525921,0.0006858566950046825,-0.24984642432648865,\n",
    "         -0.0013953517469940798,0.12736934033574265,-0.0036065535669883944,-0.07139414716586077,0.02945753682194567,\n",
    "         0.03321267405893324,-0.09305736460380659,-0.010733175482979604,0.19594627437659665,0.00199240529499085,\n",
    "         -0.2811723436604265,-0.0001164668549943862,-0.5272011889309198,-1.326420300235487e-05,-0.026670057900950818]\n",
    "\n",
    "    \n",
    "    W = np.zeros([len(a),len(a)])\n",
    "    \n",
    "    low_pass = np.zeros_like(a)\n",
    "    high_pass = np.zeros_like(a)\n",
    "    low_pass[0:len(h)] = h\n",
    "    high_pass[0:len(g)] = g\n",
    "\n",
    "    low_pass = list(low_pass)\n",
    "    high_pass = list(high_pass)\n",
    "    \n",
    "    for i in range(0,len(a),2):\n",
    "        W[i,:] = low_pass\n",
    "        W[i+1,:] = high_pass\n",
    "        \n",
    "        low_pass[0:2], low_pass[2:] = low_pass[-2:], low_pass[:-2]\n",
    "        high_pass[0:2], high_pass[2:] = high_pass[-2:], high_pass[:-2]\n",
    "    \n",
    "    X = np.matmul(W,np.transpose(a))\n",
    "    \n",
    "    result = np.zeros_like(X)\n",
    "    result[:18],result[18:] = X[-18:],X[:-18]\n",
    "    \n",
    "    return result"
   ]
  },
  {
   "cell_type": "code",
   "execution_count": 25,
   "metadata": {},
   "outputs": [
    {
     "data": {
      "text/plain": [
       "(704,)"
      ]
     },
     "execution_count": 25,
     "metadata": {},
     "output_type": "execute_result"
    }
   ],
   "source": [
    "sp_2.shape"
   ]
  },
  {
   "cell_type": "code",
   "execution_count": 20,
   "metadata": {},
   "outputs": [],
   "source": [
    "# Раскладываем и восстанавливаем сигнал полностью"
   ]
  },
  {
   "cell_type": "code",
   "execution_count": 21,
   "metadata": {},
   "outputs": [],
   "source": [
    "low,high = wavelet(sp_2)"
   ]
  },
  {
   "cell_type": "code",
   "execution_count": 22,
   "metadata": {},
   "outputs": [],
   "source": [
    "low2,high2 = wavelet(low)"
   ]
  },
  {
   "cell_type": "code",
   "execution_count": 23,
   "metadata": {},
   "outputs": [],
   "source": [
    "low3,high3 = wavelet(low2)"
   ]
  },
  {
   "cell_type": "code",
   "execution_count": 196,
   "metadata": {},
   "outputs": [],
   "source": [
    "high[:] = 0\n",
    "high2[:] = 0\n",
    "high3[:] = 0"
   ]
  },
  {
   "cell_type": "code",
   "execution_count": 197,
   "metadata": {},
   "outputs": [],
   "source": [
    "rec_low2 = inverse_wavelet(low3,high3)"
   ]
  },
  {
   "cell_type": "code",
   "execution_count": 198,
   "metadata": {},
   "outputs": [],
   "source": [
    "rec_low = inverse_wavelet(rec_low2,high2)"
   ]
  },
  {
   "cell_type": "code",
   "execution_count": 199,
   "metadata": {},
   "outputs": [],
   "source": [
    "rec_sig = inverse_wavelet(rec_low,high)"
   ]
  },
  {
   "cell_type": "code",
   "execution_count": null,
   "metadata": {},
   "outputs": [],
   "source": [
    "plt.plot(np.log(sp_2))\n",
    "plt.plot(np.log(rec_sig))\n",
    "plt.plot(np.log(sp_1))"
   ]
  },
  {
   "cell_type": "code",
   "execution_count": 181,
   "metadata": {},
   "outputs": [
    {
     "data": {
      "text/plain": [
       "704"
      ]
     },
     "execution_count": 181,
     "metadata": {},
     "output_type": "execute_result"
    }
   ],
   "source": [
    "len(sp_1)"
   ]
  },
  {
   "cell_type": "code",
   "execution_count": 190,
   "metadata": {},
   "outputs": [],
   "source": [
    "A = []\n",
    "fi = []\n",
    "\n",
    "t = np.linspace(0,100,len(sp_1))\n",
    "\n",
    "for k in range(0,352):\n",
    "    a = 2/len(sp_1)*np.sum(sp_1 * np.cos(2*3.14159*k*t))\n",
    "    b = 2/len(sp_1)*np.sum(sp_1 * np.sin(2*3.14159*k*t))\n",
    "    A.append(np.sqrt(a**2 + b**2))\n",
    "    fi.append(np.arctan(b/a))"
   ]
  },
  {
   "cell_type": "code",
   "execution_count": 191,
   "metadata": {},
   "outputs": [],
   "source": [
    "A2 = []\n",
    "fi2 = []\n",
    "\n",
    "t = np.linspace(0,100,len(sp_2))\n",
    "\n",
    "for k in range(0,352):\n",
    "    a = 2/len(sp_2)*np.sum(sp_2 * np.cos(2*3.14159*k*t))\n",
    "    b = 2/len(sp_2)*np.sum(sp_2 * np.sin(2*3.14159*k*t))\n",
    "    A2.append(np.sqrt(a**2 + b**2))\n",
    "    fi2.append(np.arctan(b/a))"
   ]
  },
  {
   "cell_type": "code",
   "execution_count": 201,
   "metadata": {},
   "outputs": [
    {
     "data": {
      "text/plain": [
       "[<matplotlib.lines.Line2D at 0x7f8a9a608cd0>]"
      ]
     },
     "execution_count": 201,
     "metadata": {},
     "output_type": "execute_result"
    },
    {
     "data": {
      "image/png": "[encoded data removed]",
      "text/plain": [
       "<Figure size 432x288 with 1 Axes>"
      ]
     },
     "metadata": {
      "needs_background": "light"
     },
     "output_type": "display_data"
    }
   ],
   "source": [
    "plt.plot(np.log(A2))\n",
    "plt.plot(np.log(A))"
   ]
  },
  {
   "cell_type": "code",
   "execution_count": null,
   "metadata": {},
   "outputs": [],
   "source": []
  }
 ],
 "metadata": {
  "kernelspec": {
   "display_name": "Python 3 (ipykernel)",
   "language": "python",
   "name": "python3"
  },
  "language_info": {
   "codemirror_mode": {
    "name": "ipython",
    "version": 3
   },
   "file_extension": ".py",
   "mimetype": "text/x-python",
   "name": "python",
   "nbconvert_exporter": "python",
   "pygments_lexer": "ipython3",
   "version": "3.10.9"
  }
 },
 "nbformat": 4,
 "nbformat_minor": 2
}
