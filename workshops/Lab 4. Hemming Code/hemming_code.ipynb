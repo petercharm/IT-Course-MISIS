{
 "cells": [
  {
   "cell_type": "code",
   "execution_count": 5,
   "metadata": {},
   "outputs": [],
   "source": [
    "import numpy as np"
   ]
  },
  {
   "cell_type": "code",
   "execution_count": 6,
   "metadata": {},
   "outputs": [],
   "source": [
    "def encode_hemming(string):\n",
    "    lst = [0,0]\n",
    "        \n",
    "    bit_count = 3\n",
    "    \n",
    "    for i in string:\n",
    "        if np.log2(bit_count)%1 == 0:\n",
    "            lst.append(0)\n",
    "            bit_count +=1 \n",
    "            \n",
    "        lst.append(int(i))\n",
    "        bit_count +=1\n",
    "\n",
    "    for i in range(len(lst)):\n",
    "        if np.log2(i+1)%1 == 0:\n",
    "\n",
    "            check_sum = 0\n",
    "            for j in range(i,len(lst),2**int((np.log2(i+1)+1))):\n",
    "                check_sum += sum(lst[j:int(j+2**(np.log2(i+1)))])\n",
    "                \n",
    "            check_sum %= 2\n",
    "            lst[i] = check_sum\n",
    "           \n",
    "    result = ''\n",
    "    \n",
    "    for i in lst:\n",
    "        result += str(i)\n",
    "    return result"
   ]
  },
  {
   "cell_type": "code",
   "execution_count": 7,
   "metadata": {},
   "outputs": [
    {
     "data": {
      "text/plain": [
       "'100110000100001011101'"
      ]
     },
     "execution_count": 7,
     "metadata": {},
     "output_type": "execute_result"
    }
   ],
   "source": [
    "encode_hemming('0100010000111101')"
   ]
  },
  {
   "cell_type": "code",
   "execution_count": 11,
   "metadata": {},
   "outputs": [],
   "source": [
    "def decode_hemming(string):\n",
    "    lst = [int(i) for i in string]\n",
    "    \n",
    "    old_checksums = []\n",
    "    \n",
    "    for i in range(len(lst)):\n",
    "        if np.log2(i+1)%1 == 0:\n",
    "            old_checksums.append(lst[i])\n",
    "            lst[i] = 0\n",
    "    \n",
    "    new_checksums = []\n",
    "    for i in range(len(lst)):\n",
    "        if np.log2(i+1)%1 == 0:\n",
    "            check_sum = 0\n",
    "            for j in range(i,len(lst),2**int((np.log2(i+1)+1))):\n",
    "                check_sum += sum(lst[j:int(j+2**(np.log2(i+1)))])\n",
    "            check_sum %= 2\n",
    "            new_checksums.append(check_sum)\n",
    "    \n",
    "    res = np.array(old_checksums) != np.array(new_checksums)\n",
    "    \n",
    "    s = 0\n",
    "    for i in range(len(res)):\n",
    "        s+=res[i]*(2**i)\n",
    "        \n",
    "    decoded_string = ''\n",
    "\n",
    "    for i in range(len(string)):\n",
    "        if np.log2(i+1)%1 == 0:\n",
    "            continue\n",
    "        if i == s-1:\n",
    "            if string[i] == '0':\n",
    "                decoded_string += '1'\n",
    "            else:\n",
    "                decoded_string += '0'\n",
    "        else:\n",
    "            decoded_string += string[i]\n",
    "            \n",
    "    return decoded_string"
   ]
  },
  {
   "cell_type": "code",
   "execution_count": 12,
   "metadata": {},
   "outputs": [
    {
     "data": {
      "text/plain": [
       "'0100010000111101'"
      ]
     },
     "execution_count": 12,
     "metadata": {},
     "output_type": "execute_result"
    }
   ],
   "source": [
    "decode_hemming('100110000100001011101')"
   ]
  }
 ],
 "metadata": {
  "kernelspec": {
   "display_name": "Python 3",
   "language": "python",
   "name": "python3"
  },
  "language_info": {
   "codemirror_mode": {
    "name": "ipython",
    "version": 3
   },
   "file_extension": ".py",
   "mimetype": "text/x-python",
   "name": "python",
   "nbconvert_exporter": "python",
   "pygments_lexer": "ipython3",
   "version": "3.7.4"
  }
 },
 "nbformat": 4,
 "nbformat_minor": 4
}
