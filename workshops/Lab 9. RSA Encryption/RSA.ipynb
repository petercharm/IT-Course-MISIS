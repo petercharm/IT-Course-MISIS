{
 "cells": [
  {
   "cell_type": "code",
   "execution_count": 1,
   "metadata": {},
   "outputs": [],
   "source": [
    "import numpy as np"
   ]
  },
  {
   "cell_type": "code",
   "execution_count": 2,
   "metadata": {},
   "outputs": [],
   "source": [
    "p = 8167\n",
    "q = 8221"
   ]
  },
  {
   "cell_type": "code",
   "execution_count": 3,
   "metadata": {},
   "outputs": [],
   "source": [
    "n = p*q"
   ]
  },
  {
   "cell_type": "code",
   "execution_count": 4,
   "metadata": {},
   "outputs": [],
   "source": [
    "phi = (p-1)*(q-1)"
   ]
  },
  {
   "cell_type": "code",
   "execution_count": 5,
   "metadata": {},
   "outputs": [
    {
     "data": {
      "text/plain": [
       "67124520"
      ]
     },
     "execution_count": 5,
     "metadata": {},
     "output_type": "execute_result"
    }
   ],
   "source": [
    "phi"
   ]
  },
  {
   "cell_type": "code",
   "execution_count": 6,
   "metadata": {},
   "outputs": [],
   "source": [
    "def mul(a,b,m):\n",
    "    if b==1:\n",
    "        return a\n",
    "    if b%2==0:\n",
    "        t = mul(a,b/2,m)\n",
    "        return(2*t)%m\n",
    "    return (mul(a,b-1,m)+a)%m"
   ]
  },
  {
   "cell_type": "code",
   "execution_count": 7,
   "metadata": {},
   "outputs": [],
   "source": [
    "def pows(a,b,m):\n",
    "    if b==0:\n",
    "        return 1\n",
    "    if b%2==0:\n",
    "        t = pows(a,b/2,m)\n",
    "        return mul(t,t,m)%m\n",
    "    return mul(pows(a,b-1,m),a,m)%m"
   ]
  },
  {
   "cell_type": "code",
   "execution_count": 8,
   "metadata": {},
   "outputs": [],
   "source": [
    "def coprime(x,y):\n",
    "    while x != 0 and y != 0:\n",
    "        if x > y:\n",
    "            x = x % y\n",
    "        else:\n",
    "            y = y % x\n",
    " \n",
    "    return x + y == 1 "
   ]
  },
  {
   "cell_type": "code",
   "execution_count": 9,
   "metadata": {},
   "outputs": [],
   "source": [
    "def prime(x):\n",
    "    for i in range(100):\n",
    "        a = np.random.randint(2,x)\n",
    "        if coprime(a,x)==False:\n",
    "            return False\n",
    "        if pows(a,x-1,x) != 1:\n",
    "            return False\n",
    "        #print(i)\n",
    "    return True"
   ]
  },
  {
   "cell_type": "code",
   "execution_count": 10,
   "metadata": {},
   "outputs": [
    {
     "name": "stdout",
     "output_type": "stream",
     "text": [
      "10037 983093\n",
      "10429 19309\n",
      "10771 953491\n"
     ]
    }
   ],
   "source": [
    "for e in range(10000,min(11000,phi)):\n",
    "    if prime(e)==True and coprime(phi,e)==True:\n",
    "        for d in range(2,1000000):\n",
    "            if (d*e)%phi == 1:\n",
    "                print(e,d)\n",
    "                break"
   ]
  },
  {
   "cell_type": "code",
   "execution_count": 11,
   "metadata": {},
   "outputs": [],
   "source": [
    "e = 10771\n",
    "d = 953491"
   ]
  },
  {
   "cell_type": "code",
   "execution_count": 12,
   "metadata": {},
   "outputs": [],
   "source": [
    "string = \"\"\"this is test message to encode and decode\"\"\""
   ]
  },
  {
   "cell_type": "code",
   "execution_count": 13,
   "metadata": {},
   "outputs": [],
   "source": [
    "code = {'a':'00000','b':'00001','c':'00010','d':'00011','e':'00100','f':'00101',\n",
    "        'g':'00110','h':'00111','i':'01000','j':'01001','k':'01010','l':'01011',\n",
    "        'm':'01100','n':'01101','o':'01110','p':'01111','q':'10000','r':'10001',\n",
    "        's':'10010','t':'10011','u':'10100','v':'10101','w':'10110','x':'10111',\n",
    "        'y':'11000','z':'11001','0':'11010','1':'11011','2':'11100','-':'11101',\n",
    "        '.':'11110',' ':'11111'}"
   ]
  },
  {
   "cell_type": "code",
   "execution_count": 14,
   "metadata": {},
   "outputs": [],
   "source": [
    "decode = {}\n",
    "\n",
    "for key,value in code.items():\n",
    "    decode[value] = key"
   ]
  },
  {
   "cell_type": "code",
   "execution_count": 15,
   "metadata": {},
   "outputs": [],
   "source": [
    "# Разбиваем сообщение на блоки по 5 символов и преобразуем каждый блок в десятичное число\n",
    "nums = []\n",
    "\n",
    "for i in range(0,len(string),5):\n",
    "    word = string[i:i+5]\n",
    "    res = ''\n",
    "    for letter in word:\n",
    "        res += code[letter]\n",
    "        \n",
    "    num = 0\n",
    "    for i in range(len(res)):\n",
    "        num += int(res[i])*2**i\n",
    "        \n",
    "    nums.append(num)"
   ]
  },
  {
   "cell_type": "code",
   "execution_count": 16,
   "metadata": {},
   "outputs": [
    {
     "data": {
      "text/plain": [
       "[32803737, 5045538, 4423465, 4587817, 5225279, 4995350, 33314847, 25632920, 4]"
      ]
     },
     "execution_count": 16,
     "metadata": {},
     "output_type": "execute_result"
    }
   ],
   "source": [
    "nums"
   ]
  },
  {
   "cell_type": "code",
   "execution_count": 17,
   "metadata": {},
   "outputs": [],
   "source": [
    "E = []\n",
    "\n",
    "for num in nums:\n",
    "    E.append(pows(num,e,n))\n",
    "    "
   ]
  },
  {
   "cell_type": "code",
   "execution_count": 18,
   "metadata": {},
   "outputs": [
    {
     "data": {
      "text/plain": [
       "[41702851,\n",
       " 48674157,\n",
       " 27446100,\n",
       " 12969202,\n",
       " 5818780,\n",
       " 29724886,\n",
       " 42346202,\n",
       " 60078390,\n",
       " 45188366]"
      ]
     },
     "execution_count": 18,
     "metadata": {},
     "output_type": "execute_result"
    }
   ],
   "source": [
    "E"
   ]
  },
  {
   "cell_type": "code",
   "execution_count": null,
   "metadata": {},
   "outputs": [],
   "source": []
  },
  {
   "cell_type": "code",
   "execution_count": 19,
   "metadata": {},
   "outputs": [
    {
     "name": "stdout",
     "output_type": "stream",
     "text": [
      "this is test message to encode and decode"
     ]
    }
   ],
   "source": [
    "# Декодирование\n",
    "\n",
    "for num in E:\n",
    "    num2 = pows(num,d,n)\n",
    "    res = ''\n",
    "    while num2>0:\n",
    "        res += str(num2%2)\n",
    "        num2=num2//2\n",
    "\n",
    "    while(len(res)%5!=0):\n",
    "        res = res+'0'\n",
    "\n",
    "    for i in range(0,len(res),5):\n",
    "        print(decode[res[i:i+5]],end='')"
   ]
  },
  {
   "cell_type": "code",
   "execution_count": null,
   "metadata": {},
   "outputs": [],
   "source": []
  },
  {
   "cell_type": "code",
   "execution_count": 20,
   "metadata": {},
   "outputs": [],
   "source": [
    "with open('vocab.csv','r') as f:\n",
    "    lines = f.read().lower().split()"
   ]
  },
  {
   "cell_type": "code",
   "execution_count": 21,
   "metadata": {},
   "outputs": [],
   "source": [
    "vocab = set(lines)"
   ]
  },
  {
   "cell_type": "code",
   "execution_count": null,
   "metadata": {},
   "outputs": [],
   "source": []
  },
  {
   "cell_type": "code",
   "execution_count": 22,
   "metadata": {},
   "outputs": [],
   "source": [
    "from tqdm import tqdm"
   ]
  },
  {
   "cell_type": "code",
   "execution_count": 24,
   "metadata": {},
   "outputs": [
    {
     "name": "stderr",
     "output_type": "stream",
     "text": [
      "  3%|▎         | 2859/100000 [00:01<00:48, 2007.86it/s]"
     ]
    },
    {
     "name": "stdout",
     "output_type": "stream",
     "text": [
      "2543 dig sqpeiq2qkwscf\n"
     ]
    },
    {
     "name": "stderr",
     "output_type": "stream",
     "text": [
      "  3%|▎         | 3452/100000 [00:01<00:49, 1965.51it/s]"
     ]
    },
    {
     "name": "stdout",
     "output_type": "stream",
     "text": [
      "3093 fix tqlyw.itqq .q\n"
     ]
    },
    {
     "name": "stderr",
     "output_type": "stream",
     "text": [
      "  6%|▌         | 6116/100000 [00:03<00:54, 1721.89it/s]"
     ]
    },
    {
     "name": "stdout",
     "output_type": "stream",
     "text": [
      "5841 mom b0gvqeocgkxq\n"
     ]
    },
    {
     "name": "stderr",
     "output_type": "stream",
     "text": [
      " 14%|█▍        | 13980/100000 [00:07<00:50, 1719.07it/s]"
     ]
    },
    {
     "name": "stdout",
     "output_type": "stream",
     "text": [
      "13777 sun rqfe0zfo1zay\n"
     ]
    },
    {
     "name": "stderr",
     "output_type": "stream",
     "text": [
      " 22%|██▏       | 21554/100000 [00:12<00:49, 1590.45it/s]"
     ]
    },
    {
     "name": "stdout",
     "output_type": "stream",
     "text": [
      "21271 ban srcwqbczly0\n"
     ]
    },
    {
     "name": "stderr",
     "output_type": "stream",
     "text": [
      " 23%|██▎       | 23076/100000 [00:13<00:56, 1365.50it/s]"
     ]
    },
    {
     "name": "stdout",
     "output_type": "stream",
     "text": [
      "22817 red isnqfqbqa2b\n"
     ]
    },
    {
     "name": "stderr",
     "output_type": "stream",
     "text": [
      " 26%|██▋       | 26368/100000 [00:15<00:53, 1364.26it/s]"
     ]
    },
    {
     "name": "stdout",
     "output_type": "stream",
     "text": [
      "26222 jvv1t1zh0sq aim \n"
     ]
    },
    {
     "name": "stderr",
     "output_type": "stream",
     "text": [
      " 34%|███▍      | 33829/100000 [00:20<00:41, 1582.15it/s]"
     ]
    },
    {
     "name": "stdout",
     "output_type": "stream",
     "text": [
      "33513 air rqvoihmpgmoiq\n"
     ]
    },
    {
     "name": "stderr",
     "output_type": "stream",
     "text": [
      " 35%|███▍      | 34618/100000 [00:21<00:42, 1542.78it/s]"
     ]
    },
    {
     "name": "stdout",
     "output_type": "stream",
     "text": [
      "34326 xv vy say qsh iw\n"
     ]
    },
    {
     "name": "stderr",
     "output_type": "stream",
     "text": [
      " 40%|███▉      | 39998/100000 [00:24<00:41, 1433.62it/s]"
     ]
    },
    {
     "name": "stdout",
     "output_type": "stream",
     "text": [
      "39766 yet no0vzea1rkwq\n"
     ]
    },
    {
     "name": "stderr",
     "output_type": "stream",
     "text": [
      " 41%|████      | 40882/100000 [00:25<00:41, 1427.34it/s]"
     ]
    },
    {
     "name": "stdout",
     "output_type": "stream",
     "text": [
      "40706 jet uq1mits0-j01q\n"
     ]
    },
    {
     "name": "stderr",
     "output_type": "stream",
     "text": [
      " 54%|█████▍    | 53873/100000 [00:34<00:30, 1488.33it/s]"
     ]
    },
    {
     "name": "stdout",
     "output_type": "stream",
     "text": [
      "53650 boot q zztz-nxliq\n"
     ]
    },
    {
     "name": "stderr",
     "output_type": "stream",
     "text": [
      " 55%|█████▌    | 55045/100000 [00:34<00:31, 1431.23it/s]"
     ]
    },
    {
     "name": "stdout",
     "output_type": "stream",
     "text": [
      "54834 imw-tqhsjlvqz few\n"
     ]
    },
    {
     "name": "stderr",
     "output_type": "stream",
     "text": [
      " 56%|█████▌    | 56084/100000 [00:35<00:29, 1471.95it/s]"
     ]
    },
    {
     "name": "stdout",
     "output_type": "stream",
     "text": [
      "55847 nan2vxdgpxb raw\n"
     ]
    },
    {
     "name": "stderr",
     "output_type": "stream",
     "text": [
      " 57%|█████▋    | 57362/100000 [00:36<00:31, 1355.73it/s]"
     ]
    },
    {
     "name": "stdout",
     "output_type": "stream",
     "text": [
      "57195 ski -qrnekoq.g1im\n"
     ]
    },
    {
     "name": "stderr",
     "output_type": "stream",
     "text": [
      " 60%|██████    | 60005/100000 [00:38<00:28, 1418.17it/s]"
     ]
    },
    {
     "name": "stdout",
     "output_type": "stream",
     "text": [
      "59728 c.mzrqhzvv2qp ill\n"
     ]
    },
    {
     "name": "stderr",
     "output_type": "stream",
     "text": [
      " 62%|██████▏   | 61847/100000 [00:39<00:29, 1288.45it/s]"
     ]
    },
    {
     "name": "stdout",
     "output_type": "stream",
     "text": [
      "61588 our .qtyyuyzsycu\n"
     ]
    },
    {
     "name": "stderr",
     "output_type": "stream",
     "text": [
      " 63%|██████▎   | 62710/100000 [00:40<00:26, 1432.22it/s]"
     ]
    },
    {
     "name": "stdout",
     "output_type": "stream",
     "text": [
      "62437 car 2q.ozgkqk1ing\n"
     ]
    },
    {
     "name": "stderr",
     "output_type": "stream",
     "text": [
      " 71%|███████▏  | 71434/100000 [00:46<00:20, 1393.74it/s]"
     ]
    },
    {
     "name": "stdout",
     "output_type": "stream",
     "text": [
      "71202 nut g2qsd-annn2q\n"
     ]
    },
    {
     "name": "stderr",
     "output_type": "stream",
     "text": [
      " 73%|███████▎  | 72838/100000 [00:47<00:21, 1287.68it/s]"
     ]
    },
    {
     "name": "stdout",
     "output_type": "stream",
     "text": [
      "72573 age n0gtsaqsxcaw\n"
     ]
    },
    {
     "name": "stderr",
     "output_type": "stream",
     "text": [
      " 75%|███████▍  | 74694/100000 [00:48<00:17, 1452.32it/s]"
     ]
    },
    {
     "name": "stdout",
     "output_type": "stream",
     "text": [
      "74451 net 0dznwc1awioq\n"
     ]
    },
    {
     "name": "stderr",
     "output_type": "stream",
     "text": [
      " 75%|███████▌  | 75294/100000 [00:49<00:17, 1444.68it/s]"
     ]
    },
    {
     "name": "stdout",
     "output_type": "stream",
     "text": [
      "74996 fly .qdaxvxqeab2u\n"
     ]
    },
    {
     "name": "stderr",
     "output_type": "stream",
     "text": [
      " 76%|███████▌  | 75589/100000 [00:49<00:16, 1443.06it/s]"
     ]
    },
    {
     "name": "stdout",
     "output_type": "stream",
     "text": [
      "75414 hat xqz.errq1iidiq\n"
     ]
    },
    {
     "name": "stderr",
     "output_type": "stream",
     "text": [
      " 82%|████████▏ | 81985/100000 [00:54<00:14, 1240.72it/s]"
     ]
    },
    {
     "name": "stdout",
     "output_type": "stream",
     "text": [
      "81828 big 1 vk qc0 dx\n",
      "82009 wyd1-qs art quqy\n"
     ]
    },
    {
     "name": "stderr",
     "output_type": "stream",
     "text": [
      " 87%|████████▋ | 86978/100000 [00:57<00:09, 1398.44it/s]"
     ]
    },
    {
     "name": "stdout",
     "output_type": "stream",
     "text": [
      "86774 sue l2jgocqmdl-jq\n"
     ]
    },
    {
     "name": "stderr",
     "output_type": "stream",
     "text": [
      " 90%|█████████ | 90462/100000 [01:00<00:06, 1407.41it/s]"
     ]
    },
    {
     "name": "stdout",
     "output_type": "stream",
     "text": [
      "90301 its whlqlmqvz.i q\n"
     ]
    },
    {
     "name": "stderr",
     "output_type": "stream",
     "text": [
      " 93%|█████████▎| 93220/100000 [01:02<00:05, 1304.92it/s]"
     ]
    },
    {
     "name": "stdout",
     "output_type": "stream",
     "text": [
      "93002 care qseugqq.dhrcq\n"
     ]
    },
    {
     "name": "stderr",
     "output_type": "stream",
     "text": [
      " 94%|█████████▎| 93626/100000 [01:02<00:04, 1286.73it/s]"
     ]
    },
    {
     "name": "stdout",
     "output_type": "stream",
     "text": [
      "93438 six 10hlg q2klmx\n"
     ]
    },
    {
     "name": "stderr",
     "output_type": "stream",
     "text": [
      "100%|██████████| 100000/100000 [01:07<00:00, 1483.09it/s]\n"
     ]
    }
   ],
   "source": [
    "# Попытка взлома\n",
    "\n",
    "for key in tqdm(range(100000)):\n",
    "    msg = ''\n",
    "    for j in range(3):\n",
    "        num2 = pows(E[j],key,n)\n",
    "        res = ''\n",
    "        while num2>0:\n",
    "            res += str(num2%2)\n",
    "            num2=num2//2\n",
    "\n",
    "        while(len(res)%5!=0):\n",
    "            res = res+'0'\n",
    "\n",
    "        for i in range(0,len(res),5):\n",
    "            msg+=decode[res[i:i+5]]\n",
    "    \n",
    "    words = msg.split()\n",
    "    \n",
    "    count = 0\n",
    "    for word in words:\n",
    "        if word in vocab and len(word)>=3:\n",
    "            count+=1\n",
    "            #print(key,word)\n",
    "    if count>0:\n",
    "        print(key,msg)"
   ]
  },
  {
   "cell_type": "code",
   "execution_count": null,
   "metadata": {},
   "outputs": [],
   "source": []
  }
 ],
 "metadata": {
  "kernelspec": {
   "display_name": "Python 3",
   "language": "python",
   "name": "python3"
  },
  "language_info": {
   "codemirror_mode": {
    "name": "ipython",
    "version": 3
   },
   "file_extension": ".py",
   "mimetype": "text/x-python",
   "name": "python",
   "nbconvert_exporter": "python",
   "pygments_lexer": "ipython3",
   "version": "3.7.4"
  }
 },
 "nbformat": 4,
 "nbformat_minor": 2
}
