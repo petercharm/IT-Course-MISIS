{
 "cells": [
  {
   "cell_type": "markdown",
   "metadata": {},
   "source": [
    "<b>Как прочитать файл и записать в массив обратно в файл"
   ]
  },
  {
   "cell_type": "code",
   "execution_count": 51,
   "metadata": {},
   "outputs": [
    {
     "name": "stdout",
     "output_type": "stream",
     "text": [
      "b'BM6\\xec^\\x00\\x00\\x00\\x00\\x006\\x00\\x00\\x00(\\x00\\x00\\x00\\x80\\x07\\x00\\x008\\x04\\x00\\x00\\x01\\x00\\x18\\x00\\x00\\x00\\x00\\x00\\x00\\xec^\\x00\\x00\\x00\\x00\\x00\\x00\\x00\\x00\\x00\\x00\\x00\\x00\\x00\\x00\\x00\\x00\\x00\\x8f\\xc1\\xb5!QE\\x00\\r\\x02\\x00\\x11\\x04\\x17iWY\\xc0\\xabO\\xc4\\xadX\\xca\\xb3~\\xdd\\xc9X\\xae\\x9c/\\x85sN\\xad\\x99\\x8a\\xf1\\xdc}\\xe2\\xcdW\\xad\\x9b_'\n"
     ]
    }
   ],
   "source": [
    "f = open(\"Z:/Rainier.bmp\",'rb') # Выберите любой файл у себя на компьютере, например картинку\n",
    "\n",
    "fd = f.read()\n",
    "\n",
    "print(fd[0:100])"
   ]
  },
  {
   "cell_type": "markdown",
   "metadata": {},
   "source": [
    "Можно преобразовать массив байт в массив типа int"
   ]
  },
  {
   "cell_type": "code",
   "execution_count": 52,
   "metadata": {},
   "outputs": [],
   "source": [
    "fd_int = [int(char) for char in fd]"
   ]
  },
  {
   "cell_type": "markdown",
   "metadata": {},
   "source": [
    "Словарь можно быстро составить с помощью библиотеки <b>collections"
   ]
  },
  {
   "cell_type": "code",
   "execution_count": 53,
   "metadata": {},
   "outputs": [],
   "source": [
    "from collections import Counter\n",
    "cnt = Counter(fd)"
   ]
  },
  {
   "cell_type": "markdown",
   "metadata": {},
   "source": [
    "Запись обратно в файл. Возможно, в Unix-подобных системах нужно указывать <b>little</b> вместо <b>big</b>"
   ]
  },
  {
   "cell_type": "code",
   "execution_count": 54,
   "metadata": {},
   "outputs": [],
   "source": [
    "f = open('Z:/1.bmp', 'wb')\n",
    "\n",
    "for char in fd_int:\n",
    "    f.write(char.to_bytes(1,'big')) # преобразование int в byte (1 байт на символ - utf8)\n",
    "\n",
    "f.close() # Если всё сделано правильно, выходной файл должен открыться как фотография, как и исходный"
   ]
  },
  {
   "cell_type": "markdown",
   "metadata": {},
   "source": [
    "<b>BWT"
   ]
  },
  {
   "cell_type": "code",
   "execution_count": 56,
   "metadata": {},
   "outputs": [],
   "source": [
    "string = 'ANABANANA'\n",
    "\n",
    "string = string + '$'"
   ]
  },
  {
   "cell_type": "code",
   "execution_count": 93,
   "metadata": {},
   "outputs": [],
   "source": [
    "list_of_strings = []\n",
    "\n",
    "for i in range(len(string)):\n",
    "    list_of_strings.append(string[len(string)-i:]+string[:len(string)-i])"
   ]
  },
  {
   "cell_type": "code",
   "execution_count": 94,
   "metadata": {},
   "outputs": [
    {
     "data": {
      "text/plain": [
       "['ANABANANA$',\n",
       " '$ANABANANA',\n",
       " 'A$ANABANAN',\n",
       " 'NA$ANABANA',\n",
       " 'ANA$ANABAN',\n",
       " 'NANA$ANABA',\n",
       " 'ANANA$ANAB',\n",
       " 'BANANA$ANA',\n",
       " 'ABANANA$AN',\n",
       " 'NABANANA$A']"
      ]
     },
     "execution_count": 94,
     "metadata": {},
     "output_type": "execute_result"
    }
   ],
   "source": [
    "list_of_strings"
   ]
  },
  {
   "cell_type": "code",
   "execution_count": 97,
   "metadata": {},
   "outputs": [
    {
     "name": "stdout",
     "output_type": "stream",
     "text": [
      "ANNN$BAAAA"
     ]
    }
   ],
   "source": [
    "for s in sorted(list_of_strings):\n",
    "    print(s[-1],end = '') # выводим последний символ каждой строки"
   ]
  },
  {
   "cell_type": "markdown",
   "metadata": {},
   "source": [
    "<b>MTF"
   ]
  },
  {
   "cell_type": "code",
   "execution_count": 99,
   "metadata": {},
   "outputs": [],
   "source": [
    "letters = ['A','B','N','$']"
   ]
  },
  {
   "cell_type": "code",
   "execution_count": 100,
   "metadata": {},
   "outputs": [],
   "source": [
    "text = 'ANNN$BAAAA'"
   ]
  },
  {
   "cell_type": "code",
   "execution_count": 105,
   "metadata": {},
   "outputs": [
    {
     "name": "stdout",
     "output_type": "stream",
     "text": [
      "0200123000"
     ]
    }
   ],
   "source": [
    "for i in range(len(text)):\n",
    "    mtf = letters.index(text[i])\n",
    "    print(mtf,end='')\n",
    "    letters = letters[mtf:]+letters[:mtf] # сдвигаем массив"
   ]
  },
  {
   "cell_type": "markdown",
   "metadata": {},
   "source": [
    "<b>Huffman"
   ]
  },
  {
   "cell_type": "code",
   "execution_count": 1,
   "metadata": {},
   "outputs": [],
   "source": [
    "class node:\n",
    "    letter = None\n",
    "    value = 0\n",
    "    left = None\n",
    "    right = None\n",
    "    def __lt__(self, other):\n",
    "        return self.value < other.value"
   ]
  },
  {
   "cell_type": "code",
   "execution_count": 3,
   "metadata": {},
   "outputs": [],
   "source": [
    "n1 = node()\n",
    "n2 = node()\n",
    "n3 = node()\n",
    "n4 = node()"
   ]
  },
  {
   "cell_type": "code",
   "execution_count": 4,
   "metadata": {},
   "outputs": [],
   "source": [
    "n1.letter = 'j'\n",
    "n1.value = 5\n",
    "n2.letter = 'l'\n",
    "n2.value = 1\n",
    "n3.letter = 'g'\n",
    "n3.value = 45\n",
    "n4.letter = 'h'\n",
    "n4.value = 2"
   ]
  },
  {
   "cell_type": "code",
   "execution_count": 5,
   "metadata": {},
   "outputs": [],
   "source": [
    "n1.left = n2\n",
    "n1.right = n3\n",
    "n2.left = n4"
   ]
  },
  {
   "cell_type": "code",
   "execution_count": 6,
   "metadata": {},
   "outputs": [
    {
     "name": "stdout",
     "output_type": "stream",
     "text": [
      "j\n",
      "l\n",
      "g\n",
      "h\n"
     ]
    }
   ],
   "source": [
    "######### Breadth-first search (BFS)\n",
    "node_list = [n1] \n",
    "\n",
    "while len(node_list) > 0:\n",
    "    n = node_list[0]\n",
    "    node_list.remove(n)\n",
    "    print(n.letter)\n",
    "    if n.left:\n",
    "        node_list.append(n.left)\n",
    "    if n.right:\n",
    "        node_list.append(n.right)"
   ]
  },
  {
   "cell_type": "code",
   "execution_count": 7,
   "metadata": {},
   "outputs": [],
   "source": [
    "########## Depth-first Search (DFS)\n",
    "\n",
    "def dfs(n,code = ''):\n",
    "    if n.letter:\n",
    "        print(n.letter,code)\n",
    "    if n.left:\n",
    "        dfs(n.left, code + '0')\n",
    "    if n.right:\n",
    "        dfs(n.right, code + '1')\n",
    "       "
   ]
  },
  {
   "cell_type": "code",
   "execution_count": 8,
   "metadata": {},
   "outputs": [],
   "source": [
    "string = '1011101010010010001000101001101011110101001000101010101000010100100100100100101010111101010101010101'"
   ]
  },
  {
   "cell_type": "code",
   "execution_count": 9,
   "metadata": {},
   "outputs": [],
   "source": [
    "letters = {}\n",
    "\n",
    "for i in range(len(string)//2):\n",
    "    letter = string[i*2:2*(i+1)]\n",
    "    if letter not in letters:\n",
    "        letters[letter] = 1\n",
    "    else:\n",
    "        letters[letter] += 1"
   ]
  },
  {
   "cell_type": "code",
   "execution_count": 10,
   "metadata": {},
   "outputs": [
    {
     "data": {
      "text/plain": [
       "{'10': 21, '11': 5, '01': 15, '00': 9}"
      ]
     },
     "execution_count": 10,
     "metadata": {},
     "output_type": "execute_result"
    }
   ],
   "source": [
    "letters"
   ]
  },
  {
   "cell_type": "code",
   "execution_count": 11,
   "metadata": {},
   "outputs": [],
   "source": [
    "node_list = []\n",
    "\n",
    "for key,value in letters.items():\n",
    "    n = node()\n",
    "    n.letter = key\n",
    "    n.value = value\n",
    "    node_list.append(n)"
   ]
  },
  {
   "cell_type": "code",
   "execution_count": 12,
   "metadata": {},
   "outputs": [],
   "source": [
    "while len(node_list) > 1:\n",
    "    node_list.sort(reverse=True)\n",
    "    n1 = node_list.pop()\n",
    "    n2 = node_list.pop()\n",
    "    n3 = node()\n",
    "    n3.value = n1.value + n2.value\n",
    "    n3.left = n1\n",
    "    n3.right = n2\n",
    "    node_list.append(n3)"
   ]
  },
  {
   "cell_type": "code",
   "execution_count": 13,
   "metadata": {},
   "outputs": [
    {
     "name": "stdout",
     "output_type": "stream",
     "text": [
      "10 0\n",
      "11 100\n",
      "00 101\n",
      "01 11\n"
     ]
    }
   ],
   "source": [
    "dfs(node_list[0])"
   ]
  },
  {
   "cell_type": "code",
   "execution_count": null,
   "metadata": {},
   "outputs": [],
   "source": []
  }
 ],
 "metadata": {
  "kernelspec": {
   "display_name": "Python 3",
   "language": "python",
   "name": "python3"
  },
  "language_info": {
   "codemirror_mode": {
    "name": "ipython",
    "version": 3
   },
   "file_extension": ".py",
   "mimetype": "text/x-python",
   "name": "python",
   "nbconvert_exporter": "python",
   "pygments_lexer": "ipython3",
   "version": "3.7.4"
  }
 },
 "nbformat": 4,
 "nbformat_minor": 2
}
